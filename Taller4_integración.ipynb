{
 "cells": [
  {
   "cell_type": "markdown",
   "metadata": {},
   "source": [
    "# Taller 4: Integración."
   ]
  },
  {
   "cell_type": "markdown",
   "metadata": {},
   "source": [
    "### Importación de librerías."
   ]
  },
  {
   "cell_type": "code",
   "execution_count": 3,
   "metadata": {},
   "outputs": [],
   "source": [
    "import numpy as np\n",
    "import matplotlib.pyplot as plt\n"
   ]
  },
  {
   "cell_type": "markdown",
   "metadata": {},
   "source": [
    "### Resolución de los ejercicios."
   ]
  },
  {
   "cell_type": "markdown",
   "metadata": {},
   "source": [
    "1. Implemente un programa que calcule la integral siguiente integral definida:\n",
    "\n",
    "$$\n",
    "I = \\int_0^{0.8} \\left( 0.2 + 25x - 200x^2 + 675x^3 - 900x^4 + 400x^5 \\right) \\, dx\n",
    "$$\n",
    "\n",
    "   utilizando la regla del trapecio con 2, 5, 10 y 20 tramos. Analice el error cometido en cada aproximación comparándolo con la solución analítica"
   ]
  },
  {
   "cell_type": "code",
   "execution_count": 8,
   "metadata": {},
   "outputs": [
    {
     "name": "stdout",
     "output_type": "stream",
     "text": [
      "Integral con 2 tramos: 1.0688000000000115, Error: 0.5717333333333223\n",
      "Integral con 5 tramos: 1.5398809600000134, Error: 0.10065237333332044\n",
      "Integral con 10 tramos: 1.615042560000011, Error: 0.025490773333322947\n",
      "Integral con 20 tramos: 1.6341401600000036, Error: 0.0063931733333302265\n"
     ]
    },
    {
     "name": "stderr",
     "output_type": "stream",
     "text": [
      "C:\\Users\\Claudia\\AppData\\Local\\Temp\\ipykernel_5640\\2393209195.py:9: DeprecationWarning: `trapz` is deprecated. Use `trapezoid` instead, or one of the numerical integration functions in `scipy.integrate`.\n",
      "  integral = np.trapz(y_tramos, x_tramos)\n"
     ]
    }
   ],
   "source": [
    "# Definimos la función a integrar\n",
    "def integrand(x):\n",
    "    return 0.2 + 25*x - 200*x**2 + 675*x**3 - 900*x**4 + 400*x**5\n",
    "\n",
    "# Función para calcular la integral usando la regla del trapecio con numpy\n",
    "def trapezoidal_rule_np(x, y, n_tramos):\n",
    "    x_tramos = np.linspace(x[0], x[-1], n_tramos + 1)\n",
    "    y_tramos = integrand(x_tramos)\n",
    "    integral = np.trapz(y_tramos, x_tramos)\n",
    "    return integral\n",
    "\n",
    "# Definimos los valores de x y y\n",
    "x_values = np.linspace(0, 0.8, 100)\n",
    "y_values = integrand(x_values)\n",
    "\n",
    "# Calculamos la integral con diferentes números de tramos y analizamos el error\n",
    "sol_analitica = 0.2 * 0.8 + 25 * (0.8**2) / 2 - 200 * (0.8**3) / 3 + 675 * (0.8**4) / 4 - 900 * (0.8**5) / 5 + 400 * (0.8**6) / 6\n",
    "tramos = [2, 5, 10, 20]\n",
    "for n in tramos:\n",
    "    integral = trapezoidal_rule_np(x_values, y_values, n)\n",
    "    error = abs(sol_analitica - integral)\n",
    "    print(f\"Integral con {n} tramos: {integral}, Error: {error}\")\n"
   ]
  },
  {
   "cell_type": "markdown",
   "metadata": {},
   "source": [
    "2. Utilice la regla de Simpson para obtener el valor de la integral del ejercicio 1 con los mismos\n",
    "pasos. Compare los resultados con los obtenidos en el ejercicio 1"
   ]
  },
  {
   "cell_type": "code",
   "execution_count": 9,
   "metadata": {},
   "outputs": [
    {
     "name": "stdout",
     "output_type": "stream",
     "text": [
      "Integral con 2 tramos (Simpson): 1.3674666666666742, Error: 0.2730666666666597\n",
      "Integral con 10 tramos (Simpson): 1.6400964266666769, Error: 0.00043690666665696654\n",
      "Integral con 20 tramos (Simpson): 1.6405060266666682, Error: 2.730666666561632e-05\n"
     ]
    }
   ],
   "source": [
    "# Función para calcular la integral usando la regla de Simpson con numpy\n",
    "def simpsons_rule_np(x, y, n_tramos):\n",
    "    if n_tramos % 2 == 1:\n",
    "        raise ValueError(\"El número de tramos debe ser par para la regla de Simpson.\")\n",
    "    x_tramos = np.linspace(x[0], x[-1], n_tramos + 1)\n",
    "    y_tramos = integrand(x_tramos)\n",
    "    h = (x[-1] - x[0]) / n_tramos\n",
    "    integral = y_tramos[0] + y_tramos[-1] + 4 * np.sum(y_tramos[1:-1:2]) + 2 * np.sum(y_tramos[2:-2:2])\n",
    "    integral *= h / 3\n",
    "    return integral\n",
    "\n",
    "# Calculamos la integral con diferentes números de tramos usando la regla de Simpson y analizamos el error\n",
    "for n in tramos:\n",
    "    if n % 2 == 0:  # La regla de Simpson requiere un número par de tramos\n",
    "        integral_simpson = simpsons_rule_np(x_values, y_values, n)\n",
    "        error_simpson = abs(sol_analitica - integral_simpson)\n",
    "        print(f\"Integral con {n} tramos (Simpson): {integral_simpson}, Error: {error_simpson}\")"
   ]
  }
 ],
 "metadata": {
  "kernelspec": {
   "display_name": "Python 3",
   "language": "python",
   "name": "python3"
  },
  "language_info": {
   "codemirror_mode": {
    "name": "ipython",
    "version": 3
   },
   "file_extension": ".py",
   "mimetype": "text/x-python",
   "name": "python",
   "nbconvert_exporter": "python",
   "pygments_lexer": "ipython3",
   "version": "3.12.6"
  }
 },
 "nbformat": 4,
 "nbformat_minor": 2
}
